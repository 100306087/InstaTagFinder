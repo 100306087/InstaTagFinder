{
 "cells": [
  {
   "cell_type": "code",
   "execution_count": 3,
   "metadata": {
    "collapsed": false
   },
   "outputs": [
    {
     "name": "stdout",
     "output_type": "stream",
     "text": [
      "Who are you?handsome\n",
      "Hello,I'm Ernie and I'm handsome\n"
     ]
    }
   ],
   "source": [
    "str=raw_input(\"Who are you?\");\n",
    "print \"Hello,I'm Ernie and I'm \"+ str"
   ]
  },
  {
   "cell_type": "code",
   "execution_count": 4,
   "metadata": {
    "collapsed": true
   },
   "outputs": [],
   "source": [
    "#file object = open(file_name [, access_mode][, buffering])"
   ]
  },
  {
   "cell_type": "code",
   "execution_count": 7,
   "metadata": {
    "collapsed": true
   },
   "outputs": [],
   "source": [
    "pic_file=open('/home/g41903/InstaTagFinder/SimpleSraper/2016-1-22/917583_994648700608134_962212976_n.jpg')\n"
   ]
  },
  {
   "cell_type": "code",
   "execution_count": 8,
   "metadata": {
    "collapsed": false
   },
   "outputs": [
    {
     "name": "stdout",
     "output_type": "stream",
     "text": [
      "<open file '/home/g41903/InstaTagFinder/SimpleSraper/2016-1-22/917583_994648700608134_962212976_n.jpg', mode 'r' at 0x7f47ec27a150>\n"
     ]
    }
   ],
   "source": [
    "print pic_file"
   ]
  },
  {
   "cell_type": "code",
   "execution_count": 38,
   "metadata": {
    "collapsed": true
   },
   "outputs": [],
   "source": [
    "mypath='jso'\n"
   ]
  },
  {
   "cell_type": "code",
   "execution_count": 39,
   "metadata": {
    "collapsed": false
   },
   "outputs": [
    {
     "name": "stdout",
     "output_type": "stream",
     "text": [
      "['simple_json_tag_taiwan_counts_217_Fri Jan 22 2016 15:09:22 GMT-0500 (EST).txt']\n"
     ]
    }
   ],
   "source": [
    "print onlyfiles"
   ]
  },
  {
   "cell_type": "code",
   "execution_count": 57,
   "metadata": {
    "collapsed": false
   },
   "outputs": [
    {
     "name": "stdout",
     "output_type": "stream",
     "text": [
      "SimpleSraper/1970-1-1/\n",
      "SimpleSraper/2016-1-22/12556042_212400865768912_408112680_n.jpg\n",
      "SimpleSraper/2016-1-22/10413954_900734490041029_1709294443_n.jpg\n",
      "SimpleSraper/2016-1-22/12523790_1026493414058500_1724174805_n.jpg\n",
      "SimpleSraper/2016-1-22/12568315_572533746245986_91458442_n.jpg\n",
      "SimpleSraper/2016-1-22/12445938_528912787269597_2049605425_n.jpg\n",
      "SimpleSraper/2016-1-22/12568778_867135106736315_1972046972_n.jpg\n",
      "SimpleSraper/2016-1-22/12628046_1506404939665568_1643012999_n.jpg\n",
      "SimpleSraper/2016-1-22/12424368_1067987173253344_536064218_n.jpg\n",
      "SimpleSraper/2016-1-22/12407733_246304282367554_1503672364_n.jpg\n",
      "SimpleSraper/2016-1-22/12407725_1567979263488200_1247753182_n.jpg\n",
      "SimpleSraper/2016-1-22/12568223_218706958469962_1655715228_n.jpg\n",
      "SimpleSraper/2016-1-22/12545300_1126846500689534_385123480_n.jpg\n",
      "SimpleSraper/2016-1-22/12534613_954189654668288_848447414_n.jpg\n",
      "SimpleSraper/2016-1-22/12545273_214238132253746_705860937_n.jpg\n",
      "SimpleSraper/2016-1-22/12534339_504170423088868_518235152_n.jpg\n",
      "SimpleSraper/2016-1-22/12543226_560667304098697_929584656_n.jpg\n",
      "SimpleSraper/2016-1-22/12627919_1108454855854011_774378433_n.jpg\n",
      "SimpleSraper/2016-1-22/12519299_436922243170488_764132318_n.jpg\n",
      "SimpleSraper/2016-1-22/12599087_997409030341975_1381125969_n.jpg\n",
      "SimpleSraper/2016-1-22/12568823_182963022062477_681978561_n.jpg\n",
      "SimpleSraper/2016-1-22/12407212_1698658320347875_175795593_n.jpg\n",
      "SimpleSraper/2016-1-22/12383638_936854879736810_1927880706_n.jpg\n",
      "SimpleSraper/2016-1-22/12547266_1688711668079187_1899737528_n.jpg\n",
      "SimpleSraper/2016-1-22/12424678_811995575579460_786183450_n.jpg\n",
      "SimpleSraper/2016-1-22/12547255_1550701861914676_442084557_n.jpg\n",
      "SimpleSraper/2016-1-22/12558296_1963997730491913_177687002_n.jpg\n",
      "SimpleSraper/2016-1-22/12547712_420197904856005_1519604942_n.jpg\n",
      "SimpleSraper/2016-1-22/12558802_428074300723755_354471903_n.jpg\n",
      "SimpleSraper/2016-1-22/12407205_1682551728679461_884453735_n.jpg\n",
      "SimpleSraper/2016-1-22/12519184_1653776758215521_1893201058_n.jpg\n",
      "SimpleSraper/2016-1-22/12558462_148809768829939_1847821021_n.jpg\n",
      "SimpleSraper/2016-1-22/12407561_1074323529285214_85155675_n.jpg\n",
      "SimpleSraper/2016-1-22/12523754_747955552015646_697019578_n.jpg\n",
      "SimpleSraper/2016-1-22/12424855_992641947467891_452564974_n.jpg\n",
      "SimpleSraper/2016-1-22/12558535_1055875821130486_1201755802_n.jpg\n",
      "SimpleSraper/2016-1-22/12552315_224112237927846_1878597812_n.jpg\n",
      "SimpleSraper/2016-1-22/12568907_590135517800868_2133972508_n.jpg\n",
      "SimpleSraper/2016-1-22/12547409_1672494609689124_1576322664_n.jpg\n",
      "SimpleSraper/2016-1-22/12383591_971905142890748_1088054866_n.jpg\n",
      "SimpleSraper/2016-1-22/12547173_826573870802349_275894790_n.jpg\n",
      "SimpleSraper/2016-1-22/12555960_1090104917686893_557646067_n.jpg\n",
      "SimpleSraper/2016-1-22/12547410_134505603596247_681112494_n.jpg\n",
      "SimpleSraper/2016-1-22/12407529_1695776620658832_2116270698_n.jpg\n",
      "SimpleSraper/2016-1-22/12519200_1688157861469258_1062610801_n.jpg\n",
      "SimpleSraper/2016-1-22/12534260_588074188015899_1337061023_n.jpg\n",
      "SimpleSraper/2016-1-22/12545404_1677601132494203_1747910732_n.jpg\n",
      "SimpleSraper/2016-1-22/12552367_220650281606250_929107219_n.jpg\n",
      "SimpleSraper/2016-1-22/12545407_637043019797910_1576780432_n.jpg\n",
      "SimpleSraper/2016-1-22/12523760_228637550802853_1345349465_n.jpg\n",
      "SimpleSraper/2016-1-22/12556081_970839116330425_704977231_n.jpg\n",
      "SimpleSraper/2016-1-22/12407541_1035694426471833_1837684272_n.jpg\n",
      "SimpleSraper/2016-1-22/12552492_1686168008329762_1837853189_n.jpg\n",
      "SimpleSraper/2016-1-22/12628027_932871366749680_621939422_n.jpg\n",
      "SimpleSraper/2016-1-22/12558691_434980140031761_1216967737_n.jpg\n",
      "SimpleSraper/2016-1-22/12599343_1129314810426782_601376282_n.jpg\n",
      "SimpleSraper/2016-1-22/12530980_922324091186971_1174395469_n.jpg\n",
      "SimpleSraper/2016-1-22/12407362_939483409422768_1333779146_n.jpg\n",
      "SimpleSraper/2016-1-22/12552316_793023460824905_770772761_n.jpg\n",
      "SimpleSraper/2016-1-22/12545271_201339106882876_1605796343_n.jpg\n",
      "SimpleSraper/2016-1-22/12556142_149216772123087_724675924_n.jpg\n",
      "SimpleSraper/2016-1-22/12558809_894003570712739_1828519120_n.jpg\n",
      "SimpleSraper/2016-1-22/12556129_1019212838141703_2073415842_n.jpg\n",
      "SimpleSraper/2016-1-22/12501948_224561251214506_189659136_n.jpg\n",
      "SimpleSraper/2016-1-22/12479184_1663332050583209_2144930776_n.jpg\n",
      "SimpleSraper/2016-1-22/12568123_949522135135030_1856227368_n.jpg\n",
      "SimpleSraper/2016-1-22/12545343_513028182212242_1946619011_n.jpg\n",
      "SimpleSraper/2016-1-22/12534144_484960891692799_514500084_n.jpg\n",
      "SimpleSraper/2016-1-22/12519509_1690765171202353_1780838050_n.jpg\n",
      "SimpleSraper/2016-1-22/929332_1020588801332659_2118155121_n.jpg\n",
      "SimpleSraper/2016-1-22/12568814_1750790405153802_1631430145_n.jpg\n",
      "SimpleSraper/2016-1-22/12446214_547217818779965_482262578_n.jpg\n",
      "SimpleSraper/2016-1-22/12501502_1074069435945734_346606047_n.jpg\n",
      "SimpleSraper/2016-1-22/12555835_562922293861262_1675570569_n.jpg\n",
      "SimpleSraper/2016-1-22/12393695_804253759720767_854295462_n.jpg\n",
      "SimpleSraper/2016-1-22/12479247_1509223586041003_1886286654_n.jpg\n",
      "SimpleSraper/2016-1-22/12519267_1058535460834905_1345536184_n.jpg\n",
      "SimpleSraper/2016-1-22/12393742_165615003808852_307227618_n.jpg\n",
      "SimpleSraper/2016-1-22/12547653_1665969140351351_692012372_n.jpg\n",
      "SimpleSraper/2016-1-22/12523746_1537136653281084_1369771167_n.jpg\n",
      "SimpleSraper/2016-1-22/12479166_1527572867543597_1530910799_n.jpg\n",
      "SimpleSraper/2016-1-22/12543296_1675660416010404_136149685_n.jpg\n",
      "SimpleSraper/2016-1-22/916519_1508623329442828_1563611052_n.jpg\n",
      "SimpleSraper/2016-1-22/12502000_141981186181388_1257477371_n.jpg\n",
      "SimpleSraper/2016-1-22/12545294_178950675794775_1474313940_n.jpg\n",
      "SimpleSraper/2016-1-22/12547617_441866586002287_2051356488_n.jpg\n",
      "SimpleSraper/2016-1-22/12543144_460255134179883_1930350929_n.jpg\n",
      "SimpleSraper/2016-1-22/10413822_618651554949233_2070200665_n.jpg\n",
      "SimpleSraper/2016-1-22/12543149_630382153767266_1767002305_n.jpg\n",
      "SimpleSraper/2016-1-22/12568313_947138682032588_1927871692_n.jpg\n",
      "SimpleSraper/2016-1-22/12446241_1659184924355172_966332433_n.jpg\n",
      "SimpleSraper/2016-1-22/12534304_1518726181790712_1802673969_n.jpg\n",
      "SimpleSraper/2016-1-22/12558874_1539106539735134_1515620477_n.jpg\n",
      "SimpleSraper/2016-1-22/12547114_1744785565750213_1099568827_n.jpg\n",
      "SimpleSraper/2016-1-22/12568354_1651600995102821_1216862450_n.jpg\n",
      "SimpleSraper/2016-1-22/12627886_909795392461921_784913388_n.jpg\n",
      "SimpleSraper/2016-1-22/12519146_174886456208484_1901628224_n.jpg\n",
      "SimpleSraper/2016-1-22/12599259_948080331946471_2123595713_n.jpg\n",
      "SimpleSraper/2016-1-22/12519157_1670512739888489_1186298298_n.jpg\n",
      "SimpleSraper/2016-1-22/12568729_468334596703707_303274634_n.jpg\n",
      "SimpleSraper/2016-1-22/12545303_780161255448917_2120162514_n.jpg\n",
      "SimpleSraper/2016-1-22/12547668_1691302364471591_1174200194_n.jpg\n",
      "SimpleSraper/2016-1-22/1171110_572898089534438_450021108_n.jpg\n",
      "SimpleSraper/2016-1-22/12479162_1542472969412937_1227231761_n.jpg\n",
      "SimpleSraper/2016-1-22/12558894_465775300279147_1864461173_n.jpg\n",
      "SimpleSraper/2016-1-22/12547682_1694578797450288_711787375_n.jpg\n",
      "SimpleSraper/2016-1-22/12424817_411557195719601_695889818_n.jpg\n",
      "SimpleSraper/2016-1-22/12519241_204724973209563_2105845214_n.jpg\n",
      "SimpleSraper/2016-1-22/12523760_953041334785275_1146930491_n.jpg\n",
      "SimpleSraper/2016-1-22/12552364_1706703772878571_2055403881_n.jpg\n",
      "SimpleSraper/2016-1-22/12383625_1745096712377021_614764918_n.jpg\n",
      "SimpleSraper/2016-1-22/924256_1683971428546844_1406456183_n.jpg\n",
      "SimpleSraper/2016-1-22/12501998_853608931418810_981802728_n.jpg\n",
      "SimpleSraper/2016-1-22/12407348_1095470577150151_1707069844_n.jpg\n",
      "SimpleSraper/2016-1-22/917861_1720066888208638_323654320_n.jpg\n",
      "SimpleSraper/2016-1-22/12599004_180552125638182_115946066_n.jpg\n",
      "SimpleSraper/2016-1-22/12568354_1240645965949201_1300204797_n.jpg\n",
      "SimpleSraper/2016-1-22/12598955_220782978261029_1443942211_n.jpg\n",
      "SimpleSraper/2016-1-22/12523806_1666274923655281_1440038540_n.jpg\n",
      "SimpleSraper/2016-1-22/12627970_808351225942978_1932151772_n.jpg\n",
      "SimpleSraper/2016-1-22/12547419_1637817143145423_836744759_n.jpg\n",
      "SimpleSraper/2016-1-22/12558706_434539726745588_229656666_n.jpg\n",
      "SimpleSraper/2016-1-22/12383627_1556823264639466_772185489_n.jpg\n",
      "SimpleSraper/2016-1-22/10632398_1553898861595615_936046294_n.jpg\n",
      "SimpleSraper/2016-1-22/12530757_515710498596757_1015383359_n.jpg\n",
      "SimpleSraper/2016-1-22/12393698_238175866514318_181408366_n.jpg\n",
      "SimpleSraper/2016-1-22/12547401_1711590912394638_1797505248_n.jpg\n",
      "SimpleSraper/2016-1-22/12519246_1011437708917400_819736194_n.jpg\n",
      "SimpleSraper/2016-1-22/12530978_1659912244276188_1089991907_n.jpg\n",
      "SimpleSraper/2016-1-22/12530706_1526988597595782_2006707342_n.jpg\n",
      "SimpleSraper/2016-1-22/12599042_969323329770715_1089390568_n.jpg\n",
      "SimpleSraper/2016-1-22/12534605_519896631522116_742127136_n.jpg\n",
      "SimpleSraper/2016-1-22/12407217_223364814666976_658930216_n.jpg\n",
      "SimpleSraper/2016-1-22/12555901_540085612823506_1818571159_n.jpg\n",
      "SimpleSraper/2016-1-22/12383333_144070859305151_871087433_n.jpg\n",
      "SimpleSraper/2016-1-22/10632398_1665909427012716_1365315691_n.jpg\n",
      "SimpleSraper/2016-1-22/12558908_179282739097932_455448993_n.jpg\n",
      "SimpleSraper/2016-1-22/12407151_559917630831240_1608421389_n.jpg\n",
      "SimpleSraper/2016-1-22/12523805_509864905841185_1859722361_n.jpg\n",
      "SimpleSraper/2016-1-22/12556025_927617873983308_820527517_n.jpg\n",
      "SimpleSraper/2016-1-22/12555860_485272891659544_1177004258_n.jpg\n",
      "SimpleSraper/2016-1-22/12547109_1709262289316787_1898450889_n.jpg\n",
      "SimpleSraper/2016-1-22/12543200_598676276949032_1318031134_n.jpg\n",
      "SimpleSraper/2016-1-22/12407482_1689176871356999_530547500_n.jpg\n",
      "SimpleSraper/2016-1-22/12407265_555119967983642_1266254692_n.jpg\n",
      "SimpleSraper/2016-1-22/12424796_1553250828328779_1694816987_n.jpg\n",
      "SimpleSraper/2016-1-22/12407417_781079815369620_408422942_n.jpg\n",
      "SimpleSraper/2016-1-22/12407494_979332032145336_839232996_n.jpg\n",
      "SimpleSraper/2016-1-22/916066_591616250991601_1937901106_n.jpg\n",
      "SimpleSraper/2016-1-22/12555926_1083601394993769_1550679182_n.jpg\n",
      "SimpleSraper/2016-1-22/12556072_1503890383250498_1149062382_n.jpg\n",
      "SimpleSraper/2016-1-22/12545370_576905449124435_1258712472_n.jpg\n",
      "SimpleSraper/2016-1-22/12555950_564274083722985_1006053544_n.jpg\n",
      "SimpleSraper/2016-1-22/12530974_1124288514272253_1899764304_n.jpg\n",
      "SimpleSraper/2016-1-22/12558475_150363322007847_1357692514_n.jpg\n",
      "SimpleSraper/2016-1-22/12558346_1708727676028626_1295373145_n.jpg\n",
      "SimpleSraper/2016-1-22/12479118_1669904813288369_756082476_n.jpg\n",
      "SimpleSraper/2016-1-22/12523627_419708428228136_910230649_n.jpg\n",
      "SimpleSraper/2016-1-22/12534540_545362155645134_691992408_n.jpg\n",
      "SimpleSraper/2016-1-22/12519159_864432753654295_972630682_n.jpg\n",
      "SimpleSraper/2016-1-22/12534485_1048760095147345_828986931_n.jpg\n",
      "SimpleSraper/2016-1-22/12599126_425263301014011_1963672960_n.jpg\n",
      "SimpleSraper/2016-1-22/12552309_1669525436669639_588551917_n.jpg\n",
      "SimpleSraper/2016-1-22/1172817_1693257977557250_1694860411_n.jpg\n",
      "SimpleSraper/2016-1-22/10838309_988320151236683_216955566_n.jpg\n",
      "SimpleSraper/2016-1-22/12519486_439334812921754_1749279548_n.jpg\n",
      "SimpleSraper/2016-1-22/12545249_979118705496296_1889434500_n.jpg\n",
      "SimpleSraper/2016-1-22/11262299_1008959659142785_637467176_n.jpg\n",
      "SimpleSraper/2016-1-22/12552193_180422212314387_2021917009_n.jpg\n",
      "SimpleSraper/2016-1-22/12479510_182062698818153_324554708_n.jpg\n",
      "SimpleSraper/2016-1-22/12547568_1650438095207976_1627459396_n.jpg\n",
      "SimpleSraper/2016-1-22/12543373_1718543511724385_1947339807_n.jpg\n",
      "SimpleSraper/2016-1-22/12556118_918065638306978_987854232_n.jpg\n",
      "SimpleSraper/2016-1-22/12628029_1555474384775009_1346842576_n.jpg\n",
      "SimpleSraper/2016-1-22/12407436_786615044783442_1975713684_n.jpg\n",
      "SimpleSraper/2016-1-22/12424531_1663281090586432_542183635_n.jpg\n",
      "SimpleSraper/2016-1-22/12547305_1029022000452638_1962727577_n.jpg\n",
      "SimpleSraper/2016-1-22/12568780_1669798863287875_1904944521_n.jpg\n",
      "SimpleSraper/2016-1-22/12568348_1027139757362661_1367348012_n.jpg\n",
      "SimpleSraper/2016-1-22/12534232_624615471009938_299947994_n.jpg\n",
      "SimpleSraper/2016-1-22/12424487_1035027369853069_1398558874_n.jpg\n",
      "SimpleSraper/2016-1-22/12534113_531823313651513_513178906_n.jpg\n",
      "SimpleSraper/2016-1-22/12547412_1702355183343474_1371196945_n.jpg\n",
      "SimpleSraper/2016-1-22/12357621_1512018925768001_1431410398_n.jpg\n",
      "SimpleSraper/2016-1-22/12501706_1550271335287067_1340855461_n.jpg\n",
      "SimpleSraper/2016-1-22/12534631_182632888763320_1433466657_n.jpg\n",
      "SimpleSraper/2016-1-22/12558730_979123878844244_1342912242_n.jpg\n",
      "SimpleSraper/2016-1-22/12534280_1555763468078537_899458421_n.jpg\n",
      "SimpleSraper/2016-1-22/12407225_1672180983006734_973687283_n.jpg\n",
      "SimpleSraper/2016-1-22/12407711_944490912288307_234944043_n.jpg\n",
      "SimpleSraper/2016-1-22/12501993_461678124032548_1511075195_n.jpg\n",
      "SimpleSraper/2016-1-22/12552362_968907679860220_1537464901_n.jpg\n",
      "SimpleSraper/2016-1-22/12558711_196950977325942_267018129_n.jpg\n",
      "SimpleSraper/2016-1-22/12534066_1544309589215789_1772846338_n.jpg\n",
      "SimpleSraper/2016-1-22/12545423_175235662840862_1332438761_n.jpg\n",
      "SimpleSraper/2016-1-22/12558832_1026151577443836_1455200873_n.jpg\n",
      "SimpleSraper/2016-1-22/12534264_1735807763317437_1547023816_n.jpg\n",
      "SimpleSraper/2016-1-22/12534470_951589754925229_1571402098_n.jpg\n",
      "SimpleSraper/2016-1-22/12479516_180468622311035_190292728_n.jpg\n",
      "SimpleSraper/2016-1-22/12407251_1663441323929243_916350838_n.jpg\n",
      "SimpleSraper/2016-1-22/12530716_1665777340330084_149312329_n.jpg\n",
      "SimpleSraper/2016-1-22/12534295_1532535473706563_1545193305_n.jpg\n",
      "SimpleSraper/2016-1-22/12568287_1229488003748037_60362256_n.jpg\n",
      "SimpleSraper/2016-1-22/12556097_448925871982425_926510132_n.jpg\n",
      "SimpleSraper/2016-1-22/12383613_460175514166686_1053024540_n.jpg\n",
      "SimpleSraper/2016-1-22/12534461_157934231247288_996481308_n.jpg\n",
      "SimpleSraper/2016-1-22/12523607_484322015085233_960958413_n.jpg\n",
      "SimpleSraper/2016-1-22/12545331_451847305004048_569710377_n.jpg\n",
      "SimpleSraper/2016-1-22/12568154_1515844555376960_309489446_n.jpg\n",
      "SimpleSraper/2016-1-22/12558633_449650768552544_502318050_n.jpg\n",
      "SimpleSraper/2016-1-22/12628084_651782801627359_1467218818_n.jpg\n",
      "SimpleSraper/2016-1-22/12523808_984425174967666_922414684_n.jpg\n",
      "SimpleSraper/2016-1-22/12479467_1197862133574658_1688978570_n.jpg\n",
      "SimpleSraper/2016-1-22/12501923_1044808692250237_1289377786_n.jpg\n",
      "SimpleSraper/2016-1-22/12558932_936259989815470_1600731820_n.jpg\n",
      "SimpleSraper/2016-1-22/12534295_179229739102650_59136480_n.jpg\n",
      "SimpleSraper/2016-1-22/12446245_871416882975417_268243206_n.jpg\n"
     ]
    }
   ],
   "source": [
    "import json\n",
    "from os import listdir\n",
    "from os.path import isfile, join\n",
    "json_file_path='/home/g41903/InstaTagFinder/JSONs/Downloaded/'\n",
    "project_root='/home/g41903/InstaTagFinder/'\n",
    "json_files = [f for f in listdir(mypath) if isfile(join(mypath, f))]\n",
    "for json_file in json_files:\n",
    "#     print 'JsonFile:',json_file\n",
    "    json_object=open(json_file_path+json_file)\n",
    "    parsed_json_object=json.load(json_object)\n",
    "#     print parsed_json_object[1]['img_file_path']\n",
    "    for json_record in parsed_json_object:\n",
    "#         print json_record\n",
    "        image=json_record['img_file_path']\n",
    "        print image\n",
    "#         print json_record['img_file_path']\n",
    "#         run_inference_on_image(image)\n",
    "        \n"
   ]
  },
  {
   "cell_type": "code",
   "execution_count": 37,
   "metadata": {
    "collapsed": false
   },
   "outputs": [
    {
     "data": {
      "text/plain": [
       "u'SimpleSraper/2016-1-22/12530716_1665777340330084_149312329_n.jpg'"
      ]
     },
     "execution_count": 37,
     "metadata": {},
     "output_type": "execute_result"
    }
   ],
   "source": []
  },
  {
   "cell_type": "code",
   "execution_count": null,
   "metadata": {
    "collapsed": true
   },
   "outputs": [],
   "source": []
  }
 ],
 "metadata": {
  "kernelspec": {
   "display_name": "Python 2",
   "language": "python",
   "name": "python2"
  },
  "language_info": {
   "codemirror_mode": {
    "name": "ipython",
    "version": 2
   },
   "file_extension": ".py",
   "mimetype": "text/x-python",
   "name": "python",
   "nbconvert_exporter": "python",
   "pygments_lexer": "ipython2",
   "version": "2.7.10"
  }
 },
 "nbformat": 4,
 "nbformat_minor": 0
}
